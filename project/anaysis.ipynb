{
 "cells": [
  {
   "cell_type": "code",
   "execution_count": 3,
   "metadata": {},
   "outputs": [
    {
     "name": "stdout",
     "output_type": "stream",
     "text": [
      "Tables in the database:\n",
      "           name\n",
      "0     taxi_data\n",
      "1  weather_data\n"
     ]
    }
   ],
   "source": [
    "import sqlite3\n",
    "import pandas as pd\n",
    "\n",
    "# Path to your SQLite database\n",
    "db_path = \"../data/data.db\"\n",
    "\n",
    "# Connect to the SQLite database\n",
    "conn = sqlite3.connect(db_path)\n",
    "\n",
    "# List all tables in the database\n",
    "tables = pd.read_sql_query(\"SELECT name FROM sqlite_master WHERE type='table';\", conn)\n",
    "print(\"Tables in the database:\")\n",
    "print(tables)\n",
    "\n",
    "\n",
    "taxi_data = pd.read_sql_query(\"SELECT * FROM taxi_data;\", conn)\n",
    "\n",
    "weather_data = pd.read_sql_query(\"SELECT * FROM weather_data;\", conn)\n",
    "\n",
    "\n",
    "# Close the connection\n",
    "conn.close()\n"
   ]
  },
  {
   "cell_type": "code",
   "execution_count": 7,
   "metadata": {},
   "outputs": [
    {
     "name": "stdout",
     "output_type": "stream",
     "text": [
      "<bound method NDFrame.head of          name    datetime  tempmax  tempmin  temp  feelslikemax  feelslikemin  \\\n",
      "0    New York  2020-01-01      5.1      1.4   3.3           1.3          -2.5   \n",
      "1    New York  2020-01-02      9.3      0.6   5.1           7.2          -3.2   \n",
      "2    New York  2020-01-03      9.3      6.8   8.2           9.2           4.9   \n",
      "3    New York  2020-01-04     10.2      6.2   8.8          10.2           2.7   \n",
      "4    New York  2020-01-05      5.4      2.2   3.7           1.5          -2.4   \n",
      "..        ...         ...      ...      ...   ...           ...           ...   \n",
      "177  New York  2020-06-26     30.2     21.2  25.9          28.9          21.2   \n",
      "178  New York  2020-06-27     27.2     22.4  24.9          28.3          22.4   \n",
      "179  New York  2020-06-28     32.2     22.8  26.5          33.1          22.8   \n",
      "180  New York  2020-06-29     30.5     21.5  24.9          30.5          21.5   \n",
      "181  New York  2020-06-30     25.6     20.0  22.5          25.6          20.0   \n",
      "\n",
      "     feelslike   dew  humidity  ...  solarenergy  uvindex  severerisk  \\\n",
      "0         -0.8  -5.8      51.5  ...          3.5        2        None   \n",
      "1          2.9  -4.0      52.2  ...          7.4        4        None   \n",
      "2          7.2   4.8      79.7  ...          1.5        1        None   \n",
      "3          7.7   7.2      90.4  ...          1.2        1        None   \n",
      "4         -0.8  -5.7      50.6  ...          8.0        5        None   \n",
      "..         ...   ...       ...  ...          ...      ...         ...   \n",
      "177       25.5  12.9      47.8  ...         26.1       10        None   \n",
      "178       25.0  17.3      63.7  ...          9.2        4        None   \n",
      "179       27.0  19.6      67.9  ...         23.4       10        None   \n",
      "180       25.0  17.7      66.8  ...         23.5        9        None   \n",
      "181       22.5  17.2      72.5  ...         16.3        8        None   \n",
      "\n",
      "                 sunrise               sunset  moonphase  \\\n",
      "0    2020-01-01T07:20:08  2020-01-01T16:38:55       0.21   \n",
      "1    2020-01-02T07:20:14  2020-01-02T16:39:46       0.25   \n",
      "2    2020-01-03T07:20:18  2020-01-03T16:40:38       0.27   \n",
      "3    2020-01-04T07:20:20  2020-01-04T16:41:32       0.30   \n",
      "4    2020-01-05T07:20:20  2020-01-05T16:42:27       0.34   \n",
      "..                   ...                  ...        ...   \n",
      "177  2020-06-26T05:26:43  2020-06-26T20:31:17       0.19   \n",
      "178  2020-06-27T05:27:06  2020-06-27T20:31:18       0.23   \n",
      "179  2020-06-28T05:27:31  2020-06-28T20:31:16       0.25   \n",
      "180  2020-06-29T05:27:58  2020-06-29T20:31:12       0.30   \n",
      "181  2020-06-30T05:28:26  2020-06-30T20:31:06       0.34   \n",
      "\n",
      "                 conditions  \\\n",
      "0          Partially cloudy   \n",
      "1                     Clear   \n",
      "2    Rain, Partially cloudy   \n",
      "3    Rain, Partially cloudy   \n",
      "4          Partially cloudy   \n",
      "..                      ...   \n",
      "177        Partially cloudy   \n",
      "178  Rain, Partially cloudy   \n",
      "179  Rain, Partially cloudy   \n",
      "180  Rain, Partially cloudy   \n",
      "181  Rain, Partially cloudy   \n",
      "\n",
      "                                           description               icon  \\\n",
      "0                    Partly cloudy throughout the day.  partly-cloudy-day   \n",
      "1                 Clear conditions throughout the day.          clear-day   \n",
      "2    Partly cloudy throughout the day with a chance...               rain   \n",
      "3          Partly cloudy throughout the day with rain.               rain   \n",
      "4                    Partly cloudy throughout the day.  partly-cloudy-day   \n",
      "..                                                 ...                ...   \n",
      "177                  Partly cloudy throughout the day.  partly-cloudy-day   \n",
      "178        Partly cloudy throughout the day with rain.               rain   \n",
      "179  Clearing in the afternoon with late afternoon ...               rain   \n",
      "180  Partly cloudy throughout the day with late aft...               rain   \n",
      "181        Partly cloudy throughout the day with rain.               rain   \n",
      "\n",
      "                                              stations  \n",
      "0    72505394728,KEWR,KLGA,72502014734,KNYC,F1417,7...  \n",
      "1    72505394728,KEWR,KLGA,72502014734,KNYC,F1417,7...  \n",
      "2    72505394728,KEWR,KLGA,72502014734,KNYC,F1417,7...  \n",
      "3    72505394728,KEWR,KLGA,72502014734,KNYC,F1417,7...  \n",
      "4    72505394728,KEWR,KLGA,72502014734,KNYC,F1417,7...  \n",
      "..                                                 ...  \n",
      "177  72505394728,KEWR,KLGA,72502014734,KNYC,F1417,7...  \n",
      "178  72505394728,KEWR,KLGA,72502014734,KNYC,F1417,7...  \n",
      "179  72505394728,KEWR,KLGA,72502014734,KNYC,F1417,7...  \n",
      "180  72505394728,KEWR,KLGA,72502014734,KNYC,F1417,7...  \n",
      "181  72505394728,KEWR,KLGA,72502014734,KNYC,F1417,7...  \n",
      "\n",
      "[182 rows x 33 columns]>\n"
     ]
    }
   ],
   "source": [
    "print(weather_data.head)"
   ]
  },
  {
   "cell_type": "code",
   "execution_count": 8,
   "metadata": {},
   "outputs": [
    {
     "name": "stdout",
     "output_type": "stream",
     "text": [
      "<bound method NDFrame.head of           VendorID tpep_pickup_datetime tpep_dropoff_datetime  \\\n",
      "0              1.0  2020-01-01 00:28:15   2020-01-01 00:33:03   \n",
      "1              1.0  2020-01-01 00:35:39   2020-01-01 00:43:04   \n",
      "2              1.0  2020-01-01 00:47:41   2020-01-01 00:53:52   \n",
      "3              1.0  2020-01-01 00:55:23   2020-01-01 01:00:14   \n",
      "4              2.0  2020-01-01 00:01:58   2020-01-01 00:04:16   \n",
      "...            ...                  ...                   ...   \n",
      "16847773       NaN  2020-06-30 23:05:00   2020-06-30 23:32:00   \n",
      "16847774       NaN  2020-06-30 23:21:47   2020-06-30 23:25:24   \n",
      "16847775       NaN  2020-06-30 23:34:00   2020-06-30 23:44:00   \n",
      "16847776       NaN  2020-06-30 23:22:47   2020-06-30 23:42:01   \n",
      "16847777       NaN  2020-06-30 23:56:18   2020-07-01 00:27:19   \n",
      "\n",
      "          passenger_count  trip_distance  RatecodeID store_and_fwd_flag  \\\n",
      "0                     1.0           1.20         1.0                  N   \n",
      "1                     1.0           1.20         1.0                  N   \n",
      "2                     1.0           0.60         1.0                  N   \n",
      "3                     1.0           0.80         1.0                  N   \n",
      "4                     1.0           0.00         1.0                  N   \n",
      "...                   ...            ...         ...                ...   \n",
      "16847773              NaN          12.96         NaN               None   \n",
      "16847774              NaN           0.36         NaN               None   \n",
      "16847775              NaN           2.36         NaN               None   \n",
      "16847776              NaN           5.50         NaN               None   \n",
      "16847777              NaN           9.59         NaN               None   \n",
      "\n",
      "          PULocationID  DOLocationID  payment_type  fare_amount  extra  \\\n",
      "0                  238           239           1.0         6.00    3.0   \n",
      "1                  239           238           1.0         7.00    3.0   \n",
      "2                  238           238           1.0         6.00    3.0   \n",
      "3                  238           151           1.0         5.50    0.5   \n",
      "4                  193           193           2.0         3.50    0.5   \n",
      "...                ...           ...           ...          ...    ...   \n",
      "16847773            17            69           NaN        32.91    0.0   \n",
      "16847774            41            41           NaN        11.45    0.0   \n",
      "16847775           242            81           NaN        18.45    0.0   \n",
      "16847776            14           118           NaN        15.90    0.0   \n",
      "16847777            61           137           NaN        29.68    0.0   \n",
      "\n",
      "          mta_tax  tip_amount  tolls_amount  improvement_surcharge  \\\n",
      "0             0.5        1.47          0.00                    0.3   \n",
      "1             0.5        1.50          0.00                    0.3   \n",
      "2             0.5        1.00          0.00                    0.3   \n",
      "3             0.5        1.36          0.00                    0.3   \n",
      "4             0.5        0.00          0.00                    0.3   \n",
      "...           ...         ...           ...                    ...   \n",
      "16847773      0.5        2.75          6.12                    0.3   \n",
      "16847774      0.5        2.75          0.00                    0.3   \n",
      "16847775      0.5        2.75          0.00                    0.3   \n",
      "16847776      0.5        6.23         12.24                    0.3   \n",
      "16847777      0.5        0.00          0.00                    0.3   \n",
      "\n",
      "          total_amount  congestion_surcharge  \n",
      "0                11.27                   2.5  \n",
      "1                12.30                   2.5  \n",
      "2                10.80                   2.5  \n",
      "3                 8.16                   0.0  \n",
      "4                 4.80                   0.0  \n",
      "...                ...                   ...  \n",
      "16847773         42.58                   0.0  \n",
      "16847774         15.00                   0.0  \n",
      "16847775         22.00                   0.0  \n",
      "16847776         35.17                   0.0  \n",
      "16847777         32.98                   2.5  \n",
      "\n",
      "[16847778 rows x 18 columns]>\n"
     ]
    }
   ],
   "source": [
    "print(taxi_data.head)"
   ]
  },
  {
   "cell_type": "code",
   "execution_count": 11,
   "metadata": {},
   "outputs": [
    {
     "name": "stdout",
     "output_type": "stream",
     "text": [
      "        tpep_pickup_datetime  total_passengers\n",
      "0        2003-01-01 00:07:17               1.0\n",
      "1        2008-12-31 22:20:23               1.0\n",
      "2        2008-12-31 23:02:19               6.0\n",
      "3        2008-12-31 23:02:40               1.0\n",
      "4        2008-12-31 23:02:48               1.0\n",
      "...                      ...               ...\n",
      "6368482  2020-11-01 15:26:33               1.0\n",
      "6368483  2020-11-01 15:41:04               1.0\n",
      "6368484  2021-01-02 00:22:00               1.0\n",
      "6368485  2021-01-02 00:44:08               1.0\n",
      "6368486  2021-01-02 01:12:10               1.0\n",
      "\n",
      "[6368487 rows x 2 columns]\n"
     ]
    }
   ],
   "source": [
    "# Group taxi_data by date and calculate the total passenger count\n",
    "daily_passenger_count = taxi_data.groupby('tpep_pickup_datetime')['passenger_count'].sum().reset_index()\n",
    "\n",
    "# Rename the columns for clarity\n",
    "daily_passenger_count.rename(columns={'passenger_count': 'total_passengers'}, inplace=True)\n",
    "\n",
    "# Display the aggregated data\n",
    "print(daily_passenger_count)\n"
   ]
  },
  {
   "cell_type": "code",
   "execution_count": 14,
   "metadata": {},
   "outputs": [
    {
     "name": "stdout",
     "output_type": "stream",
     "text": [
      "         date  total_passengers\n",
      "0  2020-01-01          281825.0\n",
      "1  2020-01-02          253419.0\n",
      "2  2020-01-03          285181.0\n",
      "3  2020-01-04          295810.0\n",
      "4  2020-01-05          258618.0\n"
     ]
    }
   ],
   "source": [
    "# Ensure the datetime column is in datetime format\n",
    "taxi_data['tpep_pickup_datetime'] = pd.to_datetime(taxi_data['tpep_pickup_datetime'])\n",
    "\n",
    "# Extract the date from the datetime column\n",
    "taxi_data['date'] = taxi_data['tpep_pickup_datetime'].dt.date\n",
    "\n",
    "# Filter data for the date range: 01-2020 to 06-2020 (using datetime.date for comparison)\n",
    "start_date = pd.to_datetime('2020-01-01').date()\n",
    "end_date = pd.to_datetime('2020-06-30').date()\n",
    "filtered_taxi_data = taxi_data[(taxi_data['date'] >= start_date) & \n",
    "                               (taxi_data['date'] <= end_date)]\n",
    "\n",
    "# Group by the extracted date and calculate the total passenger count\n",
    "daily_passenger_count = filtered_taxi_data.groupby('date')['passenger_count'].sum().reset_index()\n",
    "\n",
    "# Rename the columns for clarity\n",
    "daily_passenger_count.rename(columns={'passenger_count': 'total_passengers'}, inplace=True)\n",
    "\n",
    "# Display the filtered and aggregated data\n",
    "print(daily_passenger_count.head())\n"
   ]
  },
  {
   "cell_type": "code",
   "execution_count": null,
   "metadata": {},
   "outputs": [],
   "source": []
  }
 ],
 "metadata": {
  "kernelspec": {
   "display_name": "Python 3",
   "language": "python",
   "name": "python3"
  },
  "language_info": {
   "codemirror_mode": {
    "name": "ipython",
    "version": 3
   },
   "file_extension": ".py",
   "mimetype": "text/x-python",
   "name": "python",
   "nbconvert_exporter": "python",
   "pygments_lexer": "ipython3",
   "version": "3.13.0"
  }
 },
 "nbformat": 4,
 "nbformat_minor": 2
}
